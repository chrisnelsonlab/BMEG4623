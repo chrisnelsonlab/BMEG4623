{
  "nbformat": 4,
  "nbformat_minor": 0,
  "metadata": {
    "colab": {
      "provenance": [],
      "toc_visible": true,
      "authorship_tag": "ABX9TyMnRvndGByrSlLCkl/ch40Q",
      "include_colab_link": true
    },
    "kernelspec": {
      "name": "python3",
      "display_name": "Python 3"
    },
    "language_info": {
      "name": "python"
    }
  },
  "cells": [
    {
      "cell_type": "markdown",
      "metadata": {
        "id": "view-in-github",
        "colab_type": "text"
      },
      "source": [
        "<a href=\"https://colab.research.google.com/github/chrisnelsonlab/BMEG4623/blob/master/0_Python_Review.ipynb\" target=\"_parent\"><img src=\"https://colab.research.google.com/assets/colab-badge.svg\" alt=\"Open In Colab\"/></a>"
      ]
    },
    {
      "cell_type": "markdown",
      "source": [
        "<img src=https://brand.uark.edu/_resources/images/UA_Logo_Horizontal.jpg width=\"400\" height=\"96\">\n",
        "\n",
        "####BMEG 4623 - Tranposrt phenomenon in biomedical engineering\n",
        "####For more information, check out the Nelson lab for Therapeutic Genome Engineering (https://nelsonlab.uark.edu/)\n",
        "\n",
        "For image credits, see the linked URL\n",
        "\n",
        "#1. Introduction\n",
        "\n",
        "The goal for today is to introduce transport phenomenon and the driving force behind transport processes"
      ],
      "metadata": {
        "id": "vbt7FuFnDRp6"
      }
    },
    {
      "cell_type": "markdown",
      "source": [
        "# 1.1 Objective\n",
        "\n",
        "This workbook is intended for review from previous experience with python"
      ],
      "metadata": {
        "id": "0x4-syMuIacg"
      }
    },
    {
      "cell_type": "markdown",
      "source": [
        "# 1.2 Data Workshop Review Outline\n",
        "* Markdown boxes\n",
        "* Code blocks\n",
        "* Input and output\n",
        "* Basic logic and control in python"
      ],
      "metadata": {
        "id": "F-Gdj4RxBlgk"
      }
    },
    {
      "cell_type": "markdown",
      "source": [
        "This is a markdown box.\n",
        "\n",
        "Try changing the format. Check out this guide:\n",
        "https://colab.research.google.com/notebooks/markdown_guide.ipynb\n",
        "\n",
        "\n",
        "Try making headings, block quotes, and code blocks. Some examples are in the next box\n"
      ],
      "metadata": {
        "id": "cuXk005qBtVD"
      }
    },
    {
      "cell_type": "markdown",
      "source": [
        "# 1.3 Example Markdown box\n",
        "## Example subheading\n",
        "### Even smaller subheading\n",
        "### My Great Heading {#HeadinglinkA}\n",
        "\n",
        "\n",
        "### Make a table\n",
        "The second line decides left align, center align, or right align\n",
        "\n",
        "| Syntax      | Description | Test Text     |\n",
        "| :---        |    :----:   |          ---: |\n",
        "| Header      | Title       | Here's this   |\n",
        "| Paragraph   | Text        | And more      |\n",
        "\n",
        "\n",
        "### Bold and Italic\n",
        "**bold text**\n",
        "*italicized text*\n",
        "\n",
        "### Block quote\n",
        ">I can make block quotes\n",
        "\n",
        "### Code block\n",
        "\n",
        "To make a code block, do the following\n",
        "(This character ` is on the top left of the keyboard)\n",
        "\n",
        "\n",
        "```\n",
        "#comment\n",
        "r = 3\n",
        "area = pi*r^2\n",
        "print(area)\n",
        "\n",
        "```\n",
        "\n",
        "If you put the code style, it will format for you\n",
        "Here is an example with python:\n",
        "```python\n",
        "#comment\n",
        "r = 3\n",
        "area = pi*r^2\n",
        "print(area)\n",
        "\n",
        "```\n",
        "\n",
        "Equations - you can use LaTex for formating equations\n",
        "See example:\n",
        "\n",
        "When $a \\ne 0$, there are two solutions to $(ax^2 + bx + c = 0)$ and they are\n",
        "\n",
        "$$ x = {-b \\pm \\sqrt{b^2-4ac} \\over 2a} $$"
      ],
      "metadata": {
        "id": "6UgK4PFpCgm2"
      }
    },
    {
      "cell_type": "markdown",
      "source": [
        "# 1.4 Example Code blocks"
      ],
      "metadata": {
        "id": "w4dt0dkCIwcd"
      }
    },
    {
      "cell_type": "code",
      "source": [
        "#EXAMPLE CODE\n",
        "\n",
        "#Author: Chris Nelson\n",
        "#Problem Set 1\n",
        "#Date: 1/21/21\n",
        "#Co-authors: None\n",
        "\n",
        "#This script reads in two sequence files and aligns the sequences.\n",
        "\n",
        "#Make sure we can use colab:\n",
        "print('Hello World')\n",
        "\n",
        "#This is to test how code blocks link together\n",
        "x = 3"
      ],
      "metadata": {
        "id": "wNxBtZ5DDE0M"
      },
      "execution_count": null,
      "outputs": []
    },
    {
      "cell_type": "code",
      "execution_count": null,
      "metadata": {
        "id": "hPGh9B4cPSY2"
      },
      "outputs": [],
      "source": [
        "#Code block need to be run in order to work properly\n",
        "#For example, if you ran this before the other you would get an error.\n",
        "\n",
        "print(x)"
      ]
    },
    {
      "cell_type": "markdown",
      "source": [
        "# 1.5 Basic Python\n",
        "\n",
        "*   Variable types\n",
        " *   String and character\n",
        " *   Interger, float, double\n",
        " *   \n",
        "*   If / elif / else\n",
        "*   for loops\n",
        "*   while loops\n",
        "*   functions - define at the top of your code\n",
        "*   Built-in tools and libraries\n",
        "*   Community\n",
        "\n"
      ],
      "metadata": {
        "id": "tW0u5CeqDL6b"
      }
    },
    {
      "cell_type": "markdown",
      "source": [
        "## 1.5.1 Data types\n",
        "\n",
        "\n",
        "*   Boolean (True / False)\n",
        "*   Int\n",
        "*   Float\n",
        "*   String"
      ],
      "metadata": {
        "id": "uT8XtkU1DQn5"
      }
    },
    {
      "cell_type": "code",
      "source": [
        "#Python infers varabile types\n",
        "control_var = True\n",
        "print(type(control_var))\n",
        "button_presses = 3\n",
        "print(type(button_presses))\n",
        "gpa_student2 = 3.75\n",
        "print(type(gpa_student2))\n",
        "my_sequence = \"ATCTGTCTAG\"\n",
        "print(type(my_sequence))\n",
        "my_sequence = 3\n",
        "print(type(my_sequence))\n",
        "my_var = int(3)"
      ],
      "metadata": {
        "id": "qFUl29J0DRes"
      },
      "execution_count": null,
      "outputs": []
    },
    {
      "cell_type": "code",
      "source": [
        "#What happens if you change variable types?\n",
        "button_presses = 3.75\n",
        "print(type(button_presses))\n",
        "button_presses = \"ATC\"\n",
        "print(type(button_presses))"
      ],
      "metadata": {
        "id": "9V34u4MyDYxT"
      },
      "execution_count": null,
      "outputs": []
    },
    {
      "cell_type": "markdown",
      "source": [
        "## 1.5.2 Access characters in a string\n",
        "\n",
        "```python\n",
        "my_sequence = \"ATCGAT\"\n",
        "```\n",
        "\n",
        "| Position      | Character |\n",
        "| ----------- | ----------- |\n",
        "| 0      | A       |\n",
        "| 1   | T        |\n",
        "| 2      | C       |\n",
        "| 3   | G        |\n",
        "| 4      | A       |\n",
        "| 5   | T        |\n",
        "\n",
        "Get first letter\n",
        "```python\n",
        "my_sequence[0]\n",
        "```\n",
        "\n",
        "Get last letter\n",
        "```python\n",
        "my_sequence[-1]\n",
        "#or\n",
        "my_sequence[len(my_sequence)]\n",
        "```\n",
        "\n",
        "Get a series of letters.\n",
        "\n",
        "* First number is the start position (leave out for beginning)\n",
        "\n",
        "* Second number is the end position (leave out for end)\n",
        "\n",
        "* Third number is the spacing (leave out for 1)\n",
        "\n",
        "* First number is inclusive. Second number is not inclusive.\n",
        "\n",
        "```python\n",
        "#First two letters (0 and 1)\n",
        "my_sequence[0:2]\n",
        "#Last two letters\n",
        "my_sequence[len(my_sequence)-2:len(my_sequence)]\n",
        "my_sequence[-2:]\n",
        "#Every other letter\n",
        "my_sequence[::2]\n",
        "#Reverse it\n",
        "my_sequence[::-1]"
      ],
      "metadata": {
        "id": "y6DOna35DrFl"
      }
    },
    {
      "cell_type": "code",
      "source": [
        "#How do you access elements in a string\n",
        "# --- Form starts here --- #\n",
        "#@title How do you access elements in a string? { run: \"auto\" }\n",
        "my_sequence = \"ATCTGTCTGTCTA\" #@param {type:\"string\"}\n",
        "position_to_change = 3 #@param {type:\"number\"}\n",
        "new_base = \"G\" #@param {type:\"string\"}\n",
        "# --- Form ends here --- #\n",
        "\n",
        "#Get just posistion 4\n",
        "print(\"position 3: \" + my_sequence[3])\n",
        "#Get just the last position\n",
        "print(\"position -1: \" + my_sequence[-1])\n",
        "#Code placeholder\n",
        "#Get every other base\n",
        "print(\"every other base: \" + my_sequence[::2])\n",
        "\n",
        "\n",
        "#Are these the same?\n",
        "print(\"Two ways to access the last two elements in a string\")\n",
        "print(my_sequence[len(my_sequence)-2:len(my_sequence)])\n",
        "print(my_sequence[-2:])\n",
        "\n",
        "\n",
        "#Can you change a string?\n",
        "#Strings are immutable. Uncomment and see what happens\n",
        "#my_sequence[4]='T'\n",
        "\n",
        "#So how would you change a string?\n",
        "print(\"Changing a string\")\n",
        "print(my_sequence[0:position_to_change])\n",
        "print(my_sequence[position_to_change+1::])\n",
        "my_sequence = my_sequence[0:position_to_change]+new_base+my_sequence[position_to_change+1::]\n",
        "print('new sequence: ' + my_sequence)"
      ],
      "metadata": {
        "id": "9mg-ynWvDx4Y"
      },
      "execution_count": null,
      "outputs": []
    },
    {
      "cell_type": "markdown",
      "source": [
        "## 1.5.3 Basic python logic and control\n",
        "\n",
        "Highlights from this section\n",
        "*   spacing matters!\n",
        "*   If/elif/else\n",
        "*   While loops / for loops\n",
        "*   User input and forms\n"
      ],
      "metadata": {
        "id": "YUGo2BEGD2TI"
      }
    },
    {
      "cell_type": "code",
      "source": [
        "booleanvar = False\n",
        "if(booleanvar):\n",
        "  print('its true')\n",
        "else:\n",
        "  print('not so')\n",
        "\n",
        "\n",
        "numbervar = 3\n",
        "if(numbervar > 4):\n",
        "  print('here')\n",
        "elif(numbervar > 2):\n",
        "  print('no here')\n",
        "else:\n",
        "  print('no no here')\n",
        "\n",
        "num1 = int(input(\"enter first value\"))\n",
        "print(num1+3)"
      ],
      "metadata": {
        "id": "z9KrJV-eD5PD"
      },
      "execution_count": null,
      "outputs": []
    },
    {
      "cell_type": "markdown",
      "source": [
        "## 1.5.4 Data I/O inside google colab - Forms\n",
        "Check out this link for examples:\n",
        "https://colab.research.google.com/notebooks/forms.ipynb\n",
        "\n",
        "Highlights:\n",
        "\n",
        "\n",
        "*   You can hide code and have the input only\n",
        "*   Watch out for data type incompatibility\n",
        "\n"
      ],
      "metadata": {
        "id": "OPdB0eDGD-Pq"
      }
    },
    {
      "cell_type": "code",
      "source": [
        "#Example - Number input - users can type any value. Built-in error checking will\n",
        "#stop non-numerical values\n",
        "\n",
        "number_input =  3#@param {type:\"number\"}\n",
        "print(type(number_input))\n",
        "print(number_input) #Is it a float or an int?\n",
        "\n",
        "\n",
        "#Example - Number slider - gives you control over min and max\n",
        "number_slider = -0.1 #@param {type:\"slider\", min:-1, max:1, step:0.1}\n",
        "print(number_slider)"
      ],
      "metadata": {
        "id": "q6BF53rnEB3O"
      },
      "execution_count": null,
      "outputs": []
    },
    {
      "cell_type": "markdown",
      "source": [
        "## 1.5.5 Python Data Structures (Built-in)\n",
        "\n",
        "\n",
        "*   List - Versatile, holds multiple data types in an array\n",
        "*   Tuple - like a list but cannot be changed\n",
        "*   Dict - Has two entries, a unique key and an entry. Keys cannot be changed.\n",
        "*   Set - Collection of unique items\n",
        "\n",
        "Why would you use each one?"
      ],
      "metadata": {
        "id": "Bj-GVtn0EFMJ"
      }
    },
    {
      "cell_type": "markdown",
      "source": [
        "### 1.5.5.1 Example of using lists wrong (pointers)\n",
        "If you attempt to make a new list by setting them equal to another list, you will not make a new list. Both names 'point' to the same data."
      ],
      "metadata": {
        "id": "poepE1IvFROg"
      }
    },
    {
      "cell_type": "code",
      "source": [
        "#doing list assignments wrong\n",
        "mylist = ['item1', 'item2', 'item3']\n",
        "print(mylist[1])\n",
        "\n",
        "wrong = False\n",
        "\n",
        "if(not wrong):\n",
        "  #correct, makes a copy\n",
        "  mylist2 = list(mylist)\n",
        "else:\n",
        "  #incorrect, does not make a copy. mylist2 and mylist are the same\n",
        "  mylist2 = mylist\n",
        "\n",
        "mylist2[1]='item4'\n",
        "\n",
        "print(mylist[1])"
      ],
      "metadata": {
        "id": "oPCGDRAgFU0G"
      },
      "execution_count": null,
      "outputs": []
    },
    {
      "cell_type": "markdown",
      "source": [
        "##1.5.6 Simple function - return the hypotenuse of a right triangle\n",
        "First define the function. Run the cell to commit the function to memory (only once)"
      ],
      "metadata": {
        "id": "zmZ_gElzFYIg"
      }
    },
    {
      "cell_type": "code",
      "source": [
        "#Need to import math if you haven't already\n",
        "import math\n",
        "math.sqrt(9)\n",
        "def hypotenuse(a,b):\n",
        "  #Note, sqrt is slow, avoid if you can\n",
        "  return math.sqrt(a*a + b*b)\n",
        "\n",
        "print(hypotenuse(3,4))"
      ],
      "metadata": {
        "id": "fQZtQqThF3X7"
      },
      "execution_count": null,
      "outputs": []
    },
    {
      "cell_type": "code",
      "source": [
        "#Now run the function\n",
        "print(hypotenuse(3,4))"
      ],
      "metadata": {
        "id": "LjwzZH4KF6CF"
      },
      "execution_count": null,
      "outputs": []
    },
    {
      "cell_type": "markdown",
      "source": [
        "##1.5.7 Sum all odd numbers\n",
        "Given a minimum interger (inclusive) and maximum interger (inclusive), calculate the sum of all the odd numbers in that range"
      ],
      "metadata": {
        "id": "GF4s3RcsGA-Q"
      }
    },
    {
      "cell_type": "code",
      "source": [
        "def sum_odds(a,b):\n",
        "  sum_ab = 0\n",
        "  for i in range(a,b+1):\n",
        "    if i%2 == 1:\n",
        "      sum_ab += i\n",
        "  return sum_ab\n",
        "\n",
        "print(sum_odds(1,10))\n",
        "print(1+3+5+7+9)"
      ],
      "metadata": {
        "id": "YVviM6HNGFCm"
      },
      "execution_count": null,
      "outputs": []
    },
    {
      "cell_type": "markdown",
      "source": [
        "##1.5.8 Counting nucleotides"
      ],
      "metadata": {
        "id": "ft9BCJrNGLvW"
      }
    },
    {
      "cell_type": "code",
      "source": [
        "def dna_count(s):\n",
        "  num_A = 0\n",
        "  num_T = 0\n",
        "  num_C = 0\n",
        "  num_G = 0\n",
        "  for i in range(0, len(s)):\n",
        "    if(s[i]==\"A\"):\n",
        "      num_A+=1\n",
        "    elif(s[i]==\"T\"):\n",
        "      num_T+=1\n",
        "    elif(s[i]==\"C\"):\n",
        "      num_C+=1\n",
        "    elif(s[i]==\"G\"):\n",
        "      num_G+=1\n",
        "    else:\n",
        "      print(\"ERROR, non ATCG char\")\n",
        "  return num_A, num_G, num_C, num_T\n",
        "\n",
        "#print(dna_count('atcg')) #didn't work???\n",
        "#print(('atcg').upper())\n",
        "\n",
        "print(dna_count(('atcg').upper())) #fixed it\n"
      ],
      "metadata": {
        "id": "S3KJFJwLGVXO"
      },
      "execution_count": null,
      "outputs": []
    },
    {
      "cell_type": "markdown",
      "source": [
        "##1.5.9 Counting nucleotides V2"
      ],
      "metadata": {
        "id": "ISUByCUPGbqZ"
      }
    },
    {
      "cell_type": "code",
      "source": [
        "def dna_count2(s):\n",
        "  return s.count(\"A\"), s.count(\"G\"), s.count(\"C\"), s.count(\"T\")\n",
        "\n",
        "print(dna_count2(('ATCG').upper())) #fixed it\n"
      ],
      "metadata": {
        "id": "KXn7DQQIGdiy"
      },
      "execution_count": null,
      "outputs": []
    },
    {
      "cell_type": "markdown",
      "source": [
        "#1.6 Tutorial List\n",
        "\n",
        "First notebook example:\n",
        "https://colab.research.google.com/\n",
        "\n",
        "Using Markdown\n",
        "https://colab.research.google.com/notebooks/markdown_guide.ipynb\n",
        "\n",
        "Importing Libraries: https://colab.research.google.com/notebooks/snippets/importing_libraries.ipynb\n",
        "\n",
        "Using Forms:\n",
        "https://colab.research.google.com/notebooks/forms.ipynb\n",
        "\n",
        "Data input/output:\n",
        "https://colab.research.google.com/notebooks/io.ipynb"
      ],
      "metadata": {
        "id": "ZZN13ftbGg-N"
      }
    }
  ]
}