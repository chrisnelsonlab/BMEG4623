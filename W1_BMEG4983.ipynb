{
  "nbformat": 4,
  "nbformat_minor": 0,
  "metadata": {
    "colab": {
      "provenance": [],
      "toc_visible": true,
      "include_colab_link": true
    },
    "kernelspec": {
      "name": "python3",
      "display_name": "Python 3"
    },
    "language_info": {
      "name": "python"
    }
  },
  "cells": [
    {
      "cell_type": "markdown",
      "metadata": {
        "id": "view-in-github",
        "colab_type": "text"
      },
      "source": [
        "<a href=\"https://colab.research.google.com/github/chrisnelsonlab/BMEG4623/blob/master/W1_BMEG4983.ipynb\" target=\"_parent\"><img src=\"https://colab.research.google.com/assets/colab-badge.svg\" alt=\"Open In Colab\"/></a>"
      ]
    },
    {
      "cell_type": "markdown",
      "metadata": {
        "id": "aI7_gZZ1qPDE"
      },
      "source": [
        "<img src=https://brand.uark.edu/_resources/images/UA_Logo_Horizontal.jpg width=\"400\" height=\"96\">\n",
        "\n",
        "###BMEG 4983 - Genome Engineering and Synthetic Biology - \n",
        "###For more information, check out the Nelson lab for Therapeutic Genome Engineering (https://nelsonlab.uark.edu/)\n",
        "\n",
        "\n",
        "#Data Workshop 1 - Python, Google Colab, and Sequences\n"
      ]
    },
    {
      "cell_type": "markdown",
      "source": [
        "# (DELETE) Data Workshops Outline\n",
        "## Data Workshop 1 - Intro and Python\n",
        "*   Google colab\n",
        " *   Brief Markdown Guide\n",
        " *   Code Blocks\n",
        "* Python\n",
        " *  Control\n",
        " *  Sequence data (strings)\n",
        " *  Functions\n",
        "\n",
        "*  Challenge problems\n",
        " * P1: Define a function that reverse complements a sequence\n",
        " * P2a: Triangle peg problem\n",
        " * P2b: 8 queen problem\n",
        "\n",
        "\n",
        "## Data Workshop 2 - Sequence Data\n",
        "* Sequence databases\n",
        " * Manual Access\n",
        " * Programmatic access options\n",
        "* Working with sequence data\n",
        " * Homebrew\n",
        " * Biopython\n",
        "* Challenge problems\n",
        " * Grab gene data\n",
        " * Get exon coordinates\n",
        " * Transcribe\n",
        " * Translate\n",
        "\n",
        "## Data Workshop 3 - gRNA Design\n",
        "* C\n",
        "\n",
        "## Data Workshop 4 - Sequence alignment\n",
        "\n",
        "## Data Workshop 5 - Primers, qPCR, pandas\n",
        "\n",
        "## Data Workshop 6 - NGS/Fastq intro\n",
        "\n",
        "## Data Workshop 7 - RNAseq intro\n",
        "\n",
        "## Data Workshop 8 - NGS indel\n",
        "\n",
        "## Data Workshop 9 - \n",
        "\n",
        "## Data Workshop 10\n",
        "\n",
        "Problem/project ideas:\n",
        " What is your gene?\n",
        " What does it do?\n",
        " What are the coordinates in hg38?\n",
        " What are the coordinates of the exons?\n",
        "\n",
        " Splice motifs\n",
        " Restriction digest maps\n",
        "\n",
        "\n",
        "\n",
        "\n",
        "## Data Workshop 2\n",
        "\n",
        "\n"
      ],
      "metadata": {
        "id": "hVc8BracYtRD"
      }
    },
    {
      "cell_type": "markdown",
      "source": [
        "# 1.1 Class objective\n",
        "This is a survey course of contemporary topics in biotechnology. We will cover a lot of ground at a superficial level\n",
        "\n",
        "At the end of this course you will:\n",
        "* Understand molecular biology tools and how they modify DNA\n",
        "* \n",
        "* Have a basic understanding of how bioinformatics work is done\n"
      ],
      "metadata": {
        "id": "6gPrVZfaAE4f"
      }
    },
    {
      "cell_type": "markdown",
      "source": [
        "# 1.2 Data Workshop 1 Outline\n",
        "* Markdown boxes\n",
        "* Code blocks\n",
        "* Input and output\n",
        "* Basic logic and control in python\n"
      ],
      "metadata": {
        "id": "3ec1wXWWAnZ0"
      }
    },
    {
      "cell_type": "markdown",
      "metadata": {
        "id": "1LEBcLbtq4X7"
      },
      "source": [
        "This is a markdown box. \n",
        "\n",
        "Try changing the format. Check out this guide:\n",
        "https://colab.research.google.com/notebooks/markdown_guide.ipynb\n",
        "\n",
        "\n",
        "Try making headings, block quotes, and code blocks. Some examples are in the next box\n",
        "\n"
      ]
    },
    {
      "cell_type": "markdown",
      "metadata": {
        "id": "vipcPtDY8FI6"
      },
      "source": [
        "# 1.3 Example Markdown box\n",
        "## Example subheading\n",
        "### Even smaller subheading\n",
        "### My Great Heading {#HeadinglinkA}\n",
        "\n",
        "\n",
        "### Make a table\n",
        "The second line decides left align, center align, or right align\n",
        "\n",
        "| Syntax      | Description | Test Text     |\n",
        "| :---        |    :----:   |          ---: |\n",
        "| Header      | Title       | Here's this   |\n",
        "| Paragraph   | Text        | And more      |\n",
        "\n",
        "\n",
        "### Bold and Italic\n",
        "**bold text**\n",
        "*italicized text*\n",
        "\n",
        "### Block quote\n",
        ">I can make block quotes\n",
        "\n",
        "### Code block\n",
        "\n",
        "To make a code block, do the following\n",
        "(This character ` is on the top left of the keyboard) \n",
        "\n",
        "\n",
        "```\n",
        "#comment\n",
        "r = 3\n",
        "area = pi*r^2\n",
        "print(area)\n",
        "\n",
        "```\n",
        "\n",
        "If you put the code style, it will format for you\n",
        "Here is an example with python:\n",
        "```python\n",
        "#comment\n",
        "r = 3\n",
        "area = pi*r^2\n",
        "print(area)\n",
        "\n",
        "```"
      ]
    },
    {
      "cell_type": "markdown",
      "source": [
        "# 1.4 Example Code blocks"
      ],
      "metadata": {
        "id": "rvNSqyUyXOoP"
      }
    },
    {
      "cell_type": "code",
      "metadata": {
        "id": "-loNP7b0q5DW",
        "colab": {
          "base_uri": "https://localhost:8080/"
        },
        "outputId": "4f9a86f9-8b11-4e8c-e172-ca5e0e5a9b5a"
      },
      "source": [
        "#EXAMPLE CODE\n",
        "\n",
        "#Author: Chris Nelson\n",
        "#Problem Set 1\n",
        "#Date: 1/21/21\n",
        "#Co-authors: None\n",
        "\n",
        "#This script reads in two sequence files and aligns the sequences. \n",
        "\n",
        "#Make sure we can use colab:\n",
        "print('Hello World')\n",
        "\n",
        "#This is to test how code blocks link together\n",
        "x = 3\n"
      ],
      "execution_count": null,
      "outputs": [
        {
          "output_type": "stream",
          "name": "stdout",
          "text": [
            "Hello World\n"
          ]
        }
      ]
    },
    {
      "cell_type": "code",
      "source": [
        "#Code block need to be run in order to work properly\n",
        "#For example, if you ran this before the other you would get an error.\n",
        "\n",
        "print(x)"
      ],
      "metadata": {
        "colab": {
          "base_uri": "https://localhost:8080/"
        },
        "id": "7CPhla3dXVb1",
        "outputId": "4f3f0521-c8b7-4567-ee95-af2755f2d858"
      },
      "execution_count": null,
      "outputs": [
        {
          "output_type": "stream",
          "name": "stdout",
          "text": [
            "3\n"
          ]
        }
      ]
    },
    {
      "cell_type": "markdown",
      "source": [
        "# 1.5 Basic Python\n",
        "\n",
        "*   Variable types\n",
        " *   String and character\n",
        " *   Interger, float, double\n",
        " *   \n",
        "*   If / elif / else\n",
        "*   for loops\n",
        "*   while loops \n",
        "*   functions - define at the top of your code\n",
        "*   Built-in tools and libraries\n",
        "*   Community\n",
        "\n",
        "\n"
      ],
      "metadata": {
        "id": "nsxcDE7wNgRP"
      }
    },
    {
      "cell_type": "markdown",
      "source": [
        "## 1.5.1 Data types\n",
        "\n",
        "\n",
        "*   Boolean (True / False)\n",
        "*   Int\n",
        "*   Float\n",
        "*   String\n"
      ],
      "metadata": {
        "id": "pViQtAobUv-d"
      }
    },
    {
      "cell_type": "code",
      "source": [
        "#Python infers varabile types\n",
        "control_var = True\n",
        "print(type(control_var))\n",
        "button_presses = 3\n",
        "print(type(button_presses))\n",
        "gpa_student2 = 3.75\n",
        "print(type(gpa_student2))\n",
        "my_sequence = \"ATCTGTCTAG\"\n",
        "print(type(my_sequence))\n",
        "my_sequence = 3\n",
        "print(type(my_sequence))\n",
        "my_var = int(3)"
      ],
      "metadata": {
        "id": "JXUyTrxZU0o_"
      },
      "execution_count": null,
      "outputs": []
    },
    {
      "cell_type": "code",
      "source": [
        "#What happens if you change variable types?\n",
        "button_presses = 3.75\n",
        "print(type(button_presses))\n",
        "button_presses = \"ATC\"\n",
        "print(type(button_presses))"
      ],
      "metadata": {
        "id": "lGrBD6U0U4LQ"
      },
      "execution_count": null,
      "outputs": []
    },
    {
      "cell_type": "markdown",
      "source": [
        "## 1.5.2 Access characters in a string\n",
        "\n",
        "```python\n",
        "my_sequence = \"ATCGAT\"\n",
        "```\n",
        "\n",
        "| Position      | Character |\n",
        "| ----------- | ----------- |\n",
        "| 0      | A       |\n",
        "| 1   | T        |\n",
        "| 2      | C       |\n",
        "| 3   | G        |\n",
        "| 4      | A       |\n",
        "| 5   | T        |\n",
        "\n",
        "Get first letter\n",
        "```python\n",
        "my_sequence[0]\n",
        "```\n",
        "\n",
        "Get last letter\n",
        "```python\n",
        "my_sequence[-1]\n",
        "#or\n",
        "my_sequence[len(my_sequence)]\n",
        "```\n",
        "\n",
        "Get a series of letters.\n",
        "\n",
        "* First number is the start position (leave out for beginning)\n",
        "\n",
        "* Second number is the end position (leave out for end)\n",
        "\n",
        "* Third number is the spacing (leave out for 1)\n",
        "\n",
        "* First number is inclusive. Second number is not inclusive.\n",
        "\n",
        "```python\n",
        "#First two letters (0 and 1)\n",
        "my_sequence[0:2]\n",
        "#Last two letters\n",
        "my_sequence[len(my_sequence)-2:len(my_sequence)]\n",
        "my_sequence[-2:]\n",
        "#Every other letter\n",
        "my_sequence[::2]\n",
        "#Reverse it\n",
        "my_sequence[::-1]\n",
        "\n",
        "```"
      ],
      "metadata": {
        "id": "abKk7J-AU7ge"
      }
    },
    {
      "cell_type": "code",
      "source": [
        "#How do you access elements in a string\n",
        "# --- Form starts here --- #\n",
        "#@title How do you access elements in a string? { run: \"auto\" }\n",
        "my_sequence = \"ATCTGTCTGTCTA\" #@param {type:\"string\"}\n",
        "position_to_change = 3 #@param {type:\"number\"}\n",
        "new_base = \"G\" #@param {type:\"string\"}\n",
        "# --- Form ends here --- #\n",
        "\n",
        "#Get just posistion 4\n",
        "print(\"position 3: \" + my_sequence[3])\n",
        "#Get just the last position\n",
        "print(\"position -1: \" + my_sequence[-1])\n",
        "#Code placeholder\n",
        "#Get every other base\n",
        "print(\"every other base: \" + my_sequence[::2])\n",
        "\n",
        "\n",
        "#Are these the same?\n",
        "print(\"Two ways to access the last two elements in a string\")\n",
        "print(my_sequence[len(my_sequence)-2:len(my_sequence)])\n",
        "print(my_sequence[-2:])\n",
        "\n",
        "\n",
        "#Can you change a string?\n",
        "#Strings are immutable. Uncomment and see what happens\n",
        "#my_sequence[4]='T'\n",
        "\n",
        "#So how would you change a string?\n",
        "print(\"Changing a string\")\n",
        "print(my_sequence[0:position_to_change])\n",
        "print(my_sequence[position_to_change+1::])\n",
        "my_sequence = my_sequence[0:position_to_change]+new_base+my_sequence[position_to_change+1::]\n",
        "print('new sequence: ' + my_sequence)"
      ],
      "metadata": {
        "id": "F43_BTkbVC3l"
      },
      "execution_count": null,
      "outputs": []
    },
    {
      "cell_type": "markdown",
      "source": [
        "## 1.5.3 Basic python logic and control\n",
        "\n",
        "Highlights from this section\n",
        "*   spacing matters!\n",
        "*   If/elif/else\n",
        "*   While loops / for loops\n",
        "*   User input and forms\n"
      ],
      "metadata": {
        "id": "RmeFzGUtVEOv"
      }
    },
    {
      "cell_type": "code",
      "source": [
        "booleanvar = False\n",
        "if(booleanvar):\n",
        "  print('its true')\n",
        "else:\n",
        "  print('not so')\n",
        "\n",
        "\n",
        "numbervar = 3\n",
        "if(numbervar > 4):\n",
        "  print('here')\n",
        "elif(numbervar > 2):\n",
        "  print('no here')\n",
        "else:\n",
        "  print('no no here')\n",
        "\n",
        "num1 = int(input(\"enter first value\"))\n",
        "print(num1+3)"
      ],
      "metadata": {
        "id": "10xwxfuTVI1A"
      },
      "execution_count": null,
      "outputs": []
    },
    {
      "cell_type": "markdown",
      "source": [
        "## 1.5.4 Data I/O inside google colab - Forms\n",
        "Check out this link for examples:\n",
        "https://colab.research.google.com/notebooks/forms.ipynb\n",
        "\n",
        "Highlights:\n",
        "\n",
        "\n",
        "*   You can hide code and have the input only\n",
        "*   Watch out for data type incompatibility\n",
        "\n"
      ],
      "metadata": {
        "id": "PWTQ59S5VQGP"
      }
    },
    {
      "cell_type": "code",
      "source": [
        "#Example - Number input - users can type any value. Built-in error checking will \n",
        "#stop non-numerical values\n",
        "\n",
        "number_input =  3#@param {type:\"number\"}\n",
        "print(type(number_input))\n",
        "print(number_input) #Is it a float or an int?\n",
        "\n",
        "\n",
        "#Example - Number slider - gives you control over min and max\n",
        "number_slider = -0.1 #@param {type:\"slider\", min:-1, max:1, step:0.1}\n",
        "print(number_slider)"
      ],
      "metadata": {
        "cellView": "form",
        "id": "JgweY7UUVUc4"
      },
      "execution_count": null,
      "outputs": []
    },
    {
      "cell_type": "markdown",
      "source": [
        "## 1.5.5 Python Data Structures (Built-in)\n",
        "\n",
        "\n",
        "*   List - Versatile, holds multiple data types in an array\n",
        "*   Tuple - like a list but cannot be changed\n",
        "*   Dict - Has two entries, a unique key and an entry. Keys cannot be changed.\n",
        "*   Set - Collection of unique items\n",
        "\n",
        "Why would you use each one?"
      ],
      "metadata": {
        "id": "xvqP5Es5VZqQ"
      }
    },
    {
      "cell_type": "markdown",
      "source": [
        "### 1.5.5.1 Example of using lists wrong (pointers)\n",
        "If you attempt to make a new list by setting them equal to another list, you will not make a new list. Both names 'point' to the same data."
      ],
      "metadata": {
        "id": "QmZKXCK_Vgcs"
      }
    },
    {
      "cell_type": "code",
      "source": [
        "#doing list assignments wrong\n",
        "mylist = ['item1', 'item2', 'item3']\n",
        "print(mylist[1])\n",
        "\n",
        "wrong = False\n",
        "\n",
        "if(not wrong):\n",
        "  #correct, makes a copy\n",
        "  mylist2 = list(mylist)\n",
        "else:\n",
        "  #incorrect, does not make a copy. mylist2 and mylist are the same\n",
        "  mylist2 = mylist\n",
        "\n",
        "mylist2[1]='item4'\n",
        "\n",
        "print(mylist[1])\n"
      ],
      "metadata": {
        "id": "TALS0zkLVsJ5"
      },
      "execution_count": null,
      "outputs": []
    },
    {
      "cell_type": "markdown",
      "source": [
        "##1.5.6 Simple function - return the hypotenuse of a right triangle\n",
        "First define the function. Run the cell to commit the function to memory (only once)"
      ],
      "metadata": {
        "id": "gSKObWHAVy9r"
      }
    },
    {
      "cell_type": "code",
      "source": [
        "#Need to import math if you haven't already\n",
        "import math\n",
        "math.sqrt(9)\n",
        "def hypotenuse(a,b):\n",
        "  #Note, sqrt is slow, avoid if you can\n",
        "  return math.sqrt(a*a + b*b)\n",
        "\n",
        "print(hypotenuse(3,4))"
      ],
      "metadata": {
        "id": "PcKhBBdDV5e9"
      },
      "execution_count": null,
      "outputs": []
    },
    {
      "cell_type": "code",
      "source": [
        "#Now run the function\n",
        "print(hypotenuse(3,4))"
      ],
      "metadata": {
        "id": "JY9P2NSPV6xk"
      },
      "execution_count": null,
      "outputs": []
    },
    {
      "cell_type": "markdown",
      "source": [
        "##1.5.7 Sum all odd numbers\n",
        "Given a minimum interger (inclusive) and maximum interger (inclusive), calculate the sum of all the odd numbers in that range"
      ],
      "metadata": {
        "id": "oozXhs4VV8pK"
      }
    },
    {
      "cell_type": "code",
      "source": [
        "def sum_odds(a,b):\n",
        "  sum_ab = 0\n",
        "  for i in range(a,b+1):\n",
        "    if i%2 == 1:\n",
        "      sum_ab += i\n",
        "  return sum_ab\n",
        "\n",
        "print(sum_odds(1,10))\n",
        "print(1+3+5+7+9)"
      ],
      "metadata": {
        "id": "iFv4O032V_LF"
      },
      "execution_count": null,
      "outputs": []
    },
    {
      "cell_type": "markdown",
      "source": [
        "##1.5.8 Counting nucleotides\n"
      ],
      "metadata": {
        "id": "oonkTKNRWCl4"
      }
    },
    {
      "cell_type": "code",
      "source": [
        "def dna_count(s):\n",
        "  num_A = 0\n",
        "  num_T = 0\n",
        "  num_C = 0\n",
        "  num_G = 0\n",
        "  for i in range(0, len(s)):\n",
        "    if(s[i]==\"A\"):\n",
        "      num_A+=1\n",
        "    elif(s[i]==\"T\"):\n",
        "      num_T+=1\n",
        "    elif(s[i]==\"C\"):\n",
        "      num_C+=1\n",
        "    elif(s[i]==\"G\"):\n",
        "      num_G+=1\n",
        "    else:\n",
        "      print(\"ERROR, non ATCG char\")\n",
        "  return num_A, num_G, num_C, num_T\n",
        "\n",
        "#print(dna_count('atcg')) #didn't work???\n",
        "#print(('atcg').upper())\n",
        "\n",
        "print(dna_count(('atcg').upper())) #fixed it\n",
        "\n"
      ],
      "metadata": {
        "id": "cMkKy3sKWEfD"
      },
      "execution_count": null,
      "outputs": []
    },
    {
      "cell_type": "markdown",
      "source": [
        "##1.5.9 Counting nucleotides V2"
      ],
      "metadata": {
        "id": "0D2fkbBTWIhO"
      }
    },
    {
      "cell_type": "code",
      "source": [
        "def dna_count2(s):\n",
        "  return s.count(\"A\"), s.count(\"G\"), s.count(\"C\"), s.count(\"T\")\n",
        "\n",
        "print(dna_count2(('ATCG').upper())) #fixed it\n"
      ],
      "metadata": {
        "id": "bVMY4zk7WG2E"
      },
      "execution_count": null,
      "outputs": []
    },
    {
      "cell_type": "markdown",
      "source": [
        "#1.6 Tutorial List\n",
        "\n",
        "First notebook example:\n",
        "https://colab.research.google.com/\n",
        "\n",
        "Using Markdown\n",
        "https://colab.research.google.com/notebooks/markdown_guide.ipynb\n",
        "\n",
        "Importing Libraries: https://colab.research.google.com/notebooks/snippets/importing_libraries.ipynb\n",
        "\n",
        "Using Forms:\n",
        "https://colab.research.google.com/notebooks/forms.ipynb\n",
        "\n",
        "Data input/output:\n",
        "https://colab.research.google.com/notebooks/io.ipynb"
      ],
      "metadata": {
        "id": "b2uOQkXOXN8O"
      }
    },
    {
      "cell_type": "markdown",
      "source": [
        "# 1.7 Learning Check"
      ],
      "metadata": {
        "id": "3QRFJgYCepcX"
      }
    },
    {
      "cell_type": "code",
      "source": [
        "#@title Learning Check (input answers and hit play button)\n",
        "\n",
        "#@markdown Q1: Can you directly edit strings?\n",
        "answer1 = 'No' #@param [\" \",\"Yes\", \"No\"]\n",
        "\n",
        "#@markdown Q2: I want to isolate \"ATG\" with the following code:  \n",
        "\n",
        "#@markdown my_seq = \"CGGATGCGG\" \n",
        "\n",
        "#@markdown print(my_seq[x1:x2])\n",
        "\n",
        "#@markdown What do x1 and x2 need to be?\n",
        "\n",
        "x1 =  3#@param {type:\"integer\"}\n",
        "x2 =  6#@param {type:\"integer\"}\n",
        "\n",
        "#@markdown Q3: What side of the DNA should be on the left?\n",
        "answer3 = \"5'\" #@param [\" \",\"5'\", \"3'\"]\n",
        "\n",
        "#@markdown Q4: What organism is this sequence likely from?\n",
        "\n",
        "#@markdown Sequence = \"cgcaatttacaacacagactttatgagtgtctctatagaaatagagatgttgacacagac\"\n",
        "answer4 = \"SARS-CoV-2\" #@param [\"\", \"human\", \"mouse\", \"aligator\", \"SARS-CoV-2\"]\n",
        "\n",
        "\n",
        "if (answer1 == \"No\"):\n",
        "  print('Q1: Correct')\n",
        "else:\n",
        "  print('Q1: Incorrect')\n",
        "\n",
        "if (x1 == 3 and x2 == 6):\n",
        "  print('Q2: Correct')\n",
        "else:\n",
        "  print('Q2: Incorrect')\n",
        "\n",
        "if (answer3 == \"5'\"):\n",
        "  print('Q3: Correct')\n",
        "else:\n",
        "  print('Q3: Incorrect')\n",
        "\n",
        "if (answer4 == \"SARS-CoV-2\"):\n",
        "  print('Q4: Correct')\n",
        "else:\n",
        "  print('Q4: Incorrect')"
      ],
      "metadata": {
        "cellView": "form",
        "id": "O4jl8FRDCkmj"
      },
      "execution_count": null,
      "outputs": []
    },
    {
      "cell_type": "markdown",
      "source": [
        "# 1.8 HW1 (Free points)\n",
        "Homework 0 is designed to determine gene choices, journal club assignments, and ethics panel assignements. Secondary is for you to demonstrate that you have a basic understanding of how python works. There are two code blocks below. Edit them as needed, download the .ipynb file, and upload to blackboard.\n",
        "\n",
        "Before you start to edit the code below, save this to your own google account so you can edit and save.\n"
      ],
      "metadata": {
        "id": "YDL4F-np7kf6"
      }
    },
    {
      "cell_type": "markdown",
      "source": [
        "## Q1 - Class preferences"
      ],
      "metadata": {
        "id": "UfFBFk42Otwy"
      }
    },
    {
      "cell_type": "code",
      "source": [
        "# My name\n",
        "# My collaborators are: n/a\n",
        "# Date\n",
        "# The purpose of this script is to \n",
        "\n",
        "#I would like to be called the following during class discussion\n",
        "my_name = 'Dr. Nelson'\n",
        "\n",
        "#My journal club preferences are sorted in order from favorite to least favorite\n",
        "JC_preferences = [\"Gene therapy\", \"Gene-editing therapy\", \"Epigenetics\", \"Cell Therapy\", \"Safety of gene editing\", \"Gene Drives\", \"Molecular diagnostics\"]\n",
        "\n",
        "#My ethics panel preferences are sorted in order from favorite to least favorite\n",
        "ethics_preferences = [\"Gene drives\", \"Embryo editing\", \"Biohacking and DIY\", \"Affordability of gene therapy\", \"GMO Crops\", \"Privacy\", \"Biotech patents\"]\n",
        "\n",
        "#Choose a gene for your project (Should be related to a human disease or your research)\n",
        "#Use the common symbol for the gene\n",
        "gene_choice = \"notagene\"\n",
        "\n",
        "#Additional comments\n",
        "#Use this comment here to make any additional comments that you want me to know\n",
        "#before starting the class. If you have other suggestions for journal club\n",
        "#articles or ethics topics, let me know.\n",
        "\n",
        "#I know a little about google colab and python and can edit code blocks\n",
        "google_colab_basics = False\n",
        "#I know how to download a .ipynb and upload to blackboard as my homework submission\n",
        "homework_turn_in = False\n",
        "#I completed the learning check above successfully \n",
        "learning_check = False\n",
        "\n",
        "\n",
        "#You don't need to edit below this unless there are issues\n",
        "if(google_colab_basics & homework_turn_in & learning_check):\n",
        "  print('Good')\n",
        "  print('Your name for this class is '+my_name)\n",
        "  print('Your gene choice for your project is '+gene_choice)\n",
        "  print('Your journal club preferences are:')\n",
        "  for i,pref in enumerate(JC_preferences):\n",
        "    print(\"Rank #\"+str(i+1)+\": \"+pref)\n",
        "  print('Your ethics panel preferences are:')\n",
        "  for i,pref in enumerate(ethics_preferences):\n",
        "    print(\"Rank #\"+str(i+1)+\": \"+pref)\n",
        "  print('make sure to download this as a .ipynb and submit via blackboard')\n",
        "else:\n",
        "  print('Read the green comments and edit variables as needed')  \n"
      ],
      "metadata": {
        "colab": {
          "base_uri": "https://localhost:8080/"
        },
        "id": "lHWwKvFJ77cD",
        "outputId": "51663162-0f6c-4266-a544-84eb30a887e1"
      },
      "execution_count": 1,
      "outputs": [
        {
          "output_type": "stream",
          "name": "stdout",
          "text": [
            "Read the green comments and edit variables as needed\n"
          ]
        }
      ]
    },
    {
      "cell_type": "markdown",
      "source": [
        "## Q2 - Reverse complement a DNA strand\n",
        "\n",
        "Reverse complement explanation:\n",
        "DNA is double-stranded. For each strand of DNA, there is a strand that runs the opposite direction and has complement bases. \n",
        "\n",
        "DNA is commonly writen from 5' to 3' (unless otherwise stated)\n"
      ],
      "metadata": {
        "id": "hjSBApFEOx-j"
      }
    },
    {
      "cell_type": "code",
      "source": [
        "def reverse_complement (my_seq):\n",
        "  #Add code here to reverse complement the sequence\n",
        "  my_seq_rc = my_seq #This is incorrect as is\n",
        "  return my_seq_rc\n",
        "\n",
        "\n",
        "first_strand = \"ATGTCTGTGCATGCTGTGATCTG\"\n",
        "print(reverse_complement(first_strand))\n",
        "\n"
      ],
      "metadata": {
        "colab": {
          "base_uri": "https://localhost:8080/"
        },
        "id": "TAqp533kO2_r",
        "outputId": "3d2df777-6289-418a-86e0-309dbed9d5c1"
      },
      "execution_count": null,
      "outputs": [
        {
          "output_type": "stream",
          "name": "stdout",
          "text": [
            "ATG\n"
          ]
        }
      ]
    },
    {
      "cell_type": "markdown",
      "source": [
        "# Prep for next week: Get familiar with google colab\n",
        "Try out the markdown language. Tinker with a few example problems. Here is a great place to find some example bioinformatics challenge problems\n",
        "https://rosalind.info/\n",
        "\n",
        "Try out these problems if you have time (optional):\n",
        "https://rosalind.info/problems/ini2/\n",
        "\n",
        "https://rosalind.info/problems/revc/\n",
        "\n",
        "\n",
        "\n",
        "\n"
      ],
      "metadata": {
        "id": "7ucaLhvRhWj7"
      }
    },
    {
      "cell_type": "markdown",
      "source": [
        "# Challenge Problem (Very optional)\n",
        "Check out the popular online game wordle.\n",
        "https://www.powerlanguage.co.uk/wordle/\n",
        "\n",
        "Can you write a script that will suggest answers to you?\n",
        "\n",
        "*Hint* There is a dictionary of words available here:\n",
        "https://raw.githubusercontent.com/dwyl/english-words/master/words_alpha.txt\n",
        "\n",
        "What might this excercise have to do with genome engineering?"
      ],
      "metadata": {
        "id": "ukXFy6jEQTtw"
      }
    }
  ]
}