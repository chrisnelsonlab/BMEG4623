{
  "nbformat": 4,
  "nbformat_minor": 0,
  "metadata": {
    "colab": {
      "provenance": [],
      "authorship_tag": "ABX9TyO088qfZdjkb0qYEX4HZjRa",
      "include_colab_link": true
    },
    "kernelspec": {
      "name": "python3",
      "display_name": "Python 3"
    },
    "language_info": {
      "name": "python"
    }
  },
  "cells": [
    {
      "cell_type": "markdown",
      "metadata": {
        "id": "view-in-github",
        "colab_type": "text"
      },
      "source": [
        "<a href=\"https://colab.research.google.com/github/chrisnelsonlab/BMEG4623/blob/master/Copy_of_W9_2024_BMEG4983.ipynb\" target=\"_parent\"><img src=\"https://colab.research.google.com/assets/colab-badge.svg\" alt=\"Open In Colab\"/></a>"
      ]
    },
    {
      "cell_type": "markdown",
      "source": [
        "<img src=https://brand.uark.edu/_resources/images/UA_Logo_Horizontal.jpg width=\"400\" height=\"96\">\n",
        "\n",
        "####BMEG 4983 - Genome Engineering and Synthetic Biology -\n",
        "####For more information, check out the Nelson lab for Therapeutic Genome Engineering (https://nelsonlab.uark.edu/)\n",
        "\n",
        "For image credits, see the linked URL\n",
        "\n",
        "#9. Data Workshop 9 - Sequence detection and assembly\n",
        "\n",
        "The goal for today is to be able to work through the process of assembling a novel sequence and examining an evolutionary trajectory.\n",
        "\n",
        "This notebook is new for 2024"
      ],
      "metadata": {
        "id": "2uSam9E7owuO"
      }
    },
    {
      "cell_type": "markdown",
      "source": [
        "#9.1 Genome Assembly\n",
        "This section inspired by https://rosalind.info/problems/long/\n",
        "https://rosalind.info/problems/tree/\n",
        "\n",
        "The year is 2027 and we have isolated the following sequences from respiratory samples from a pneumonia patient.\n",
        "\n",
        "We have numerous sequence reads that are relativly short (<150 bp each). We want to assemble these into a larger seqeunce (ideally the entire genome if possible.\n",
        "\n",
        "Here is an illustration from Rosalind.info showing the basic idea:\n",
        "\n",
        "<img src=https://rosalind.info/media/problems/long/fragment-assembly.png>\n",
        "\n",
        "\n",
        "\n",
        "Let's take the example below from Rosalind:\n",
        "```\n",
        ">Rosalind_56\n",
        "ATTAGACCTG\n",
        ">Rosalind_57\n",
        "CCTGCCGGAA\n",
        ">Rosalind_58\n",
        "AGACCTGCCG\n",
        ">Rosalind_59\n",
        "GCCGGAATAC\n",
        "```\n",
        "\n",
        "How would we attempt to assemble these into a \"superstring\"?\n",
        "\n",
        "We can do this by hand. Try it out and see what you get!\n",
        "\n"
      ],
      "metadata": {
        "id": "IrIenl99o7R5"
      }
    },
    {
      "cell_type": "markdown",
      "source": [
        "#9.2 Assemblers\n",
        "\n",
        "The process for genome assembly is shown schematically here.\n",
        "\n",
        "<img src=https://upload.wikimedia.org/wikipedia/commons/b/b6/Types_of_sequencing_assembly.png>\n",
        "\n",
        "\n",
        "Option 1 is using a previously created reference as a template to build a new consensus. If you are building a genome for the first time, you may not have a template. That requires \"De novo\" assembly.\n",
        "\n",
        "Brainstorm how an algortithm like this could work. Keep in mind that this problem has had expereicned mathmaticians, computer scientists, and biologists working on it for more than three decades. So writing our own assembler would be a learning experience, but we won't make one nearly as feature rich or as fast as already available.\n",
        "\n"
      ],
      "metadata": {
        "id": "h1rkOvOYpGxp"
      }
    },
    {
      "cell_type": "code",
      "source": [
        "#MAP out pseduocode for an assembler"
      ],
      "metadata": {
        "id": "CubyKjwUR3Oi"
      },
      "execution_count": null,
      "outputs": []
    },
    {
      "cell_type": "markdown",
      "source": [
        "# 9.3 Evolutionary Trajectory\n",
        "\n",
        "Several months later, we isolated some similar sequences from several other patients in other parts of the globe. Can we build an evolutionary tree?\n",
        "\n",
        "Let's try a few seqeunces as an example\n",
        "\n",
        "```\n",
        "Species 1: ACGTACGT\n",
        "Species 2: ACGTACGC\n",
        "Species 3: ACCTACGC\n",
        "```\n",
        "\n",
        "Species 1 has a different base at the end\n",
        "\n",
        "Species  3 has a different base at the 3rd position\n",
        "\n",
        "What are some ways we can draw this tree?\n",
        "\n",
        "Are some more probable than others?\n",
        "\n",
        "What assumptions should we make?\n"
      ],
      "metadata": {
        "id": "tFoUyKOtFak0"
      }
    },
    {
      "cell_type": "code",
      "source": [
        "#Uncomment this line the first time\n",
        "!pip install biopython\n",
        "#Import some things we might need\n",
        "import Bio\n",
        "from Bio import AlignIO\n",
        "from Bio import pairwise2\n",
        "from Bio.pairwise2 import format_alignment\n",
        "from Bio.Seq import Seq\n",
        "import time\n",
        "import requests\n",
        "#This line makes sure it works\n",
        "print(\"Biopython version:\", Bio.__version__)"
      ],
      "metadata": {
        "colab": {
          "base_uri": "https://localhost:8080/"
        },
        "id": "SNMcIOXwpOkT",
        "outputId": "b1087fe1-88e0-4488-cc34-631df4c6c555"
      },
      "execution_count": 3,
      "outputs": [
        {
          "output_type": "stream",
          "name": "stdout",
          "text": [
            "Collecting biopython\n",
            "  Downloading biopython-1.83-cp310-cp310-manylinux_2_17_x86_64.manylinux2014_x86_64.whl (3.1 MB)\n",
            "\u001b[2K     \u001b[90m━━━━━━━━━━━━━━━━━━━━━━━━━━━━━━━━━━━━━━━━\u001b[0m \u001b[32m3.1/3.1 MB\u001b[0m \u001b[31m10.6 MB/s\u001b[0m eta \u001b[36m0:00:00\u001b[0m\n",
            "\u001b[?25hRequirement already satisfied: numpy in /usr/local/lib/python3.10/dist-packages (from biopython) (1.25.2)\n",
            "Installing collected packages: biopython\n",
            "Successfully installed biopython-1.83\n",
            "Biopython version: 1.83\n"
          ]
        },
        {
          "output_type": "stream",
          "name": "stderr",
          "text": [
            "/usr/local/lib/python3.10/dist-packages/Bio/pairwise2.py:278: BiopythonDeprecationWarning: Bio.pairwise2 has been deprecated, and we intend to remove it in a future release of Biopython. As an alternative, please consider using Bio.Align.PairwiseAligner as a replacement, and contact the Biopython developers if you still need the Bio.pairwise2 module.\n",
            "  warnings.warn(\n"
          ]
        }
      ]
    },
    {
      "cell_type": "code",
      "source": [
        "from Bio import AlignIO\n",
        "from Bio import Phylo\n",
        "from Bio.Phylo.TreeConstruction import DistanceCalculator, DistanceTreeConstructor\n",
        "from Bio.Phylo import draw, Newick\n",
        "from Bio.SeqRecord import SeqRecord\n",
        "\n",
        "def build_phylogenetic_tree(sequences, format='fasta', method='nj'):\n",
        "    # Align sequences\n",
        "    alignment = AlignIO.MultipleSeqAlignment(sequences)\n",
        "\n",
        "    # Calculate distance matrix\n",
        "    calculator = DistanceCalculator('identity')\n",
        "    distance_matrix = calculator.get_distance(alignment)\n",
        "\n",
        "    # Build tree\n",
        "    constructor = DistanceTreeConstructor()\n",
        "    if method == 'nj':\n",
        "        tree = constructor.nj(distance_matrix)\n",
        "    elif method == 'upgma':\n",
        "        tree = constructor.upgma(distance_matrix)\n",
        "    else:\n",
        "        raise ValueError(\"Unsupported tree construction method. Choose 'nj' or 'upgma'.\")\n",
        "\n",
        "    return tree\n",
        "\n",
        "# Example usage:\n",
        "sequences = [\n",
        "    SeqRecord(Seq(\"ACGTACGT\"),id=\"Species1\"),\n",
        "    SeqRecord(Seq(\"ACGTACGC\"),id=\"Species2\"),\n",
        "    SeqRecord(Seq(\"ACCTACGC\"),id=\"Species3\")\n",
        "    #add another sequence here to see what happens\n",
        "    #try out longer sequences\n",
        "    # Add more sequences as needed\n",
        "]\n",
        "\n",
        "tree = build_phylogenetic_tree(sequences)\n",
        "#print(\"Phylogenetic tree:\")\n",
        "#print(tree)\n",
        "\n",
        "# Draw and save the tree as a PNG file\n",
        "#Phylo.draw(tree)\n",
        "Phylo.draw_ascii(tree)"
      ],
      "metadata": {
        "colab": {
          "base_uri": "https://localhost:8080/"
        },
        "id": "FvJBh6aRO9fp",
        "outputId": "6816c6fd-6dee-4ceb-8e91-310923946c68"
      },
      "execution_count": 12,
      "outputs": [
        {
          "output_type": "stream",
          "name": "stdout",
          "text": [
            "  ____________________________________________________________________ Species1\n",
            " |\n",
            "_| Species2\n",
            " |\n",
            " |____________________________________________________________________ Species3\n",
            "\n"
          ]
        }
      ]
    },
    {
      "cell_type": "markdown",
      "source": [
        "Now try with a larger gene\n",
        "```\n",
        ">gene1\n",
        "ATTAAAGGTTTATACCTTCCCAGGTAACAAACCAACCAACTTTCGATCTCTTGTAGATCTGTTCTCTAAACGAACTTTAAAATCTGTGTGGCTGTCACTCGGCTGCATGCTTAGTGCACTCACGCAGTATAATTAATAAC\n",
        ">gene2\n",
        "ATTAAAGGTTTATACCTTCCCAGGTAACAATCCAACCAACTTTCGATCTCTTGTAGATCTGTTCTCTAAACGAACTTTAAAATCTGTGTGGCTGTCACTCGGCTGCATGCTTAGTGCACTCACGCAGGATAATTAATAAC\n",
        ">gene3\n",
        "ATTAAAGGTTTATACCTTCCCATGTAACAATCCAACCAACTTTCGATCTCTTGTAGATCTGTTCTCTAAACGAACTTTAAAATCTGTGTGGCTGTCACTCGGTTGCATGCTTAGTGCACTCACGCAGGATAATTAATAAC\n",
        ">gene4\n",
        "ATTAAAGGTTTATACCTTCCCATGTAACAATCCAACCAACTTTCGATCTCTTGTAGATCTGTTCTCTAAACCCACTTTAAAATCTGTGTGGCTGTCACTCGGTTGCATGCTTAGTGCACTCACGCAGGATAATTAATAAC\n",
        ">gene5\n",
        "ATTAAAGGTTTATACCTTCCCAGGTAACAAACCAACCAACTTTCGATCTCTTGTAGATCTGTTCTCTAAACCTACTTTAAAATCTGTGTGGCTGTCACTCGGCTGCATGCTTAGTGCACTCACGCAGTATAATTAATAAC\n",
        ">gene6\n",
        "ATTAAAGGTTTATACCTTCCCAGGTAACAAACCAACCAACTTTCGTTCTCTTGTAGATCTGTTCTCTAAACCTACTTTAAAATCTGTGTGGCTGTCACTCGGCTGCATGCTTAGTGCACTCACGCAGTATAATTAATAAC\n",
        ">gene7\n",
        "ATTAAAGGTTTATACCTTCCCAGGTAACAAACCAACCAACTTTCGATCTCTTGTAGATCTGTTCTCTAAACGAACTTTAAAATCTGTGTGGCTGTCACTCGGCTGCATGCTTAGTGCACTCACGCAGTATAATTAATAAC\n",
        "```"
      ],
      "metadata": {
        "id": "Ey4wdsRSOc9P"
      }
    },
    {
      "cell_type": "markdown",
      "source": [
        "#9.4 CODIS\n",
        "From:\n",
        "https://www.nature.com/scitable/topicpage/forensics-dna-fingerprinting-and-codis-736/\n",
        "\n",
        "\n",
        "| STR Locus | Evidence Sample | Suspect A | Suspect B | Suspect B's Genotype Frequency for Each STR |\n",
        "|-----------|-----------------|-----------|-----------|---------------------------------------------|\n",
        "| D3S1358   | 15, 17          | 17, 17    | 15, 17    | 0.13                                        |\n",
        "| vWA       | 15, 16          | 18, 19    | 15, 16    | 0.22                                        |\n",
        "| FGA       | 23, 27          | 21, 23    | 23, 27    | 0.31                                        |\n",
        "| D8S1179   | 12, 13          | 14, 15    | 12, 13    | 0.34                                        |\n",
        "| D21S11    | 28, 30          | 27, 30.2  | 28, 30    | 0.06                                        |\n",
        "| D18S51    | 12, 18          | 14, 18    | 12, 18    | 0.11                                        |\n",
        "| D5S818    | 13, 13          | 9, 12     | 13, 13    | 0.29                                        |\n",
        "| D13S317   | 12, 12          | 12, 12    | 12, 12    | 0.21                                        |\n",
        "| D7S820    | 10, 11          | 9, 10     | 10, 11    | 0.26                                        |\n",
        "| CSF1PO    | 8, 11           | 11, 12    | 8, 11     | 0.18                                        |\n",
        "| TPOX      | 7, 8            | 8, 8      | 7, 8      | 0.30                                        |\n",
        "| THO1      | 9.3, 9.3        | 6, 9.3    | 9.3, 9.3  | 0.38                                        |\n",
        "| D16S539   | 9, 13           | 11, 12    | 9, 13     | 0.10                                        |\n",
        "\n",
        "\n",
        "What is the probability that Suspect A is the correct suspect?\n",
        "\n",
        "What is the probability that Suspect B is the correct suspect?\n",
        "\n",
        "Prosecutor's fallacy\n",
        "\n",
        "Proability that:\n",
        "\n",
        "An elephant has four legs (high) != an animal with four legs is an elephant (low)\n",
        "\n",
        "What happens when the genetic DNA is degraded.\n",
        "\n",
        "\n",
        "Three other examples of the prosecutor's fallacy:\n",
        "\n",
        "The probability that this nurse’s shifts would coincide with so many deaths and resuscitations by chance is 1 in 342 million, so she must be guilty.\n",
        "Given your positive test result, the chance of your dying within 10 years is 99.9%.\n",
        "He mustn’t love me anymore, as it’s been 3 days and he hasn’t returned my call.\n",
        "\n",
        "Source: https://www.cebm.ox.ac.uk/news/views/the-prosecutors-fallacy"
      ],
      "metadata": {
        "id": "rCLMnaqWR7i0"
      }
    },
    {
      "cell_type": "code",
      "source": [],
      "metadata": {
        "id": "pbG86qPvTz_V"
      },
      "execution_count": 4,
      "outputs": []
    }
  ]
}