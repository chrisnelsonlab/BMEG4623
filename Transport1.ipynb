{
  "nbformat": 4,
  "nbformat_minor": 0,
  "metadata": {
    "colab": {
      "name": "Transport1.ipynb",
      "provenance": [],
      "authorship_tag": "ABX9TyN+Ep3XNnba9iBgl8e7OqWU",
      "include_colab_link": true
    },
    "kernelspec": {
      "name": "python3",
      "display_name": "Python 3"
    },
    "language_info": {
      "name": "python"
    }
  },
  "cells": [
    {
      "cell_type": "markdown",
      "metadata": {
        "id": "view-in-github",
        "colab_type": "text"
      },
      "source": [
        "<a href=\"https://colab.research.google.com/github/chrisnelsonlab/BMEG4623/blob/master/Transport1.ipynb\" target=\"_parent\"><img src=\"https://colab.research.google.com/assets/colab-badge.svg\" alt=\"Open In Colab\"/></a>"
      ]
    },
    {
      "cell_type": "markdown",
      "source": [
        "<img src=https://brand.uark.edu/_resources/images/UA_Logo_Horizontal.jpg width=\"400\" height=\"96\">\n",
        "\n",
        "###BMEG 4623 - Transport Phenomena Lecture 1 \n",
        "###For more information, check out the Nelson lab for Therapeutic Genome Engineering (https://nelsonlab.uark.edu/)\n",
        "\n",
        "\n",
        "#Simple random walk demonstration"
      ],
      "metadata": {
        "id": "AEawUkiJphtO"
      }
    },
    {
      "cell_type": "code",
      "execution_count": null,
      "metadata": {
        "id": "GbvVOz9ppe4u"
      },
      "outputs": [],
      "source": [
        ""
      ]
    }
  ]
}